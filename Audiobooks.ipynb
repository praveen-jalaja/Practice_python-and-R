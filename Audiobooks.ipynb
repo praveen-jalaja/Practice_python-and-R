{
  "nbformat": 4,
  "nbformat_minor": 0,
  "metadata": {
    "colab": {
      "name": "Audiobooks.ipynb",
      "provenance": [],
      "collapsed_sections": [],
      "toc_visible": true,
      "authorship_tag": "ABX9TyPWnS6DsKkkUnys/LK4bjbE",
      "include_colab_link": true
    },
    "kernelspec": {
      "name": "python3",
      "display_name": "Python 3"
    }
  },
  "cells": [
    {
      "cell_type": "markdown",
      "metadata": {
        "id": "view-in-github",
        "colab_type": "text"
      },
      "source": [
        "<a href=\"https://colab.research.google.com/github/praveen-jalaja/Practice_python-and-R/blob/master/Audiobooks.ipynb\" target=\"_parent\"><img src=\"https://colab.research.google.com/assets/colab-badge.svg\" alt=\"Open In Colab\"/></a>"
      ]
    },
    {
      "cell_type": "markdown",
      "metadata": {
        "id": "N-ToRf_CjUnp",
        "colab_type": "text"
      },
      "source": [
        "# AudioBook Supervised Learning Using Deep Neural Networks\n",
        "\n",
        "##### BackGround : \n",
        "* The AudioBooks are purchased from a audiobook online retail app. The Data is colllected in the 2 years span and 6 months Span.\n",
        "\n",
        "##### Problem Statement: \n",
        "* we have many inputs data like overall purchase minutes and reviews etc. and the targets is that **wheather the customer will buy or won't buy an another audiobook.**\n",
        "* The targets in the data set was collected in the last 6 months of total span.\n",
        "\n"
      ]
    },
    {
      "cell_type": "markdown",
      "metadata": {
        "id": "SGNEOWQbnFPR",
        "colab_type": "text"
      },
      "source": [
        "### Action Plan\n",
        "\n",
        "* **Preprocessing the Data**\n",
        "    * Shuffle the Dataset to eliminate the bias due to data Collection methods(like day effects).\n",
        "    * Balance the Dataset.\n",
        "    * Scale all the inputs.\n",
        "    * shuffle the datasets to eliminate the bias due to Balancing.\n",
        "    * Divide the dataset into train ,validation , test datasets.\n",
        "    * convert the dataset into a tensor.\n",
        "\n",
        "* **Create a Machine Learning Algorithm**\n",
        "  * Create a model.\n",
        "  * validate the model.\n",
        "  * Test the Model\n",
        "  "
      ]
    },
    {
      "cell_type": "markdown",
      "metadata": {
        "id": "rVcH7EKgl38-",
        "colab_type": "text"
      },
      "source": [
        "### Import all the libraries and raw data "
      ]
    },
    {
      "cell_type": "code",
      "metadata": {
        "id": "N0QgbRmymNmu",
        "colab_type": "code",
        "colab": {}
      },
      "source": [
        "import tensorflow as tf\n",
        "import numpy as np\n",
        "from sklearn import preprocessing"
      ],
      "execution_count": 0,
      "outputs": []
    },
    {
      "cell_type": "code",
      "metadata": {
        "id": "9POwnxVjpD9B",
        "colab_type": "code",
        "colab": {}
      },
      "source": [
        "url =\"https://raw.githubusercontent.com/praveen-jalaja/ml-datasets/master/Audiobooks_data.csv?token=AN42ENME6UBQ3WN24LSK3DK6WYZT2\"\n",
        "raw_data = np.loadtxt(url,delimiter=',')\n",
        "\n",
        "unscaled_inputs_all = raw_data[:,1:-1]\n",
        "targets_all = raw_data[:,-1]"
      ],
      "execution_count": 0,
      "outputs": []
    },
    {
      "cell_type": "code",
      "metadata": {
        "id": "N0ZpmNaBIsGe",
        "colab_type": "code",
        "colab": {
          "base_uri": "https://localhost:8080/",
          "height": 51
        },
        "outputId": "f1526491-a6c5-4162-bcef-f439a688fd13"
      },
      "source": [
        " print(\"Inputs Have {} rows X {} columns\".format(unscaled_inputs_all.shape[0], unscaled_inputs_all.shape[1]))\n",
        " print(\"Targers Have {} rows X 1 columns\".format(targets_all.shape[0]))"
      ],
      "execution_count": 3,
      "outputs": [
        {
          "output_type": "stream",
          "text": [
            "Inputs Have 14084 rows X 10 columns\n",
            "Targers Have 14084 rows X 1 columns\n"
          ],
          "name": "stdout"
        }
      ]
    },
    {
      "cell_type": "markdown",
      "metadata": {
        "id": "MO-U25Xype84",
        "colab_type": "text"
      },
      "source": [
        "### Shuffling the Datasets"
      ]
    },
    {
      "cell_type": "code",
      "metadata": {
        "id": "PNJWMGqi2uIZ",
        "colab_type": "code",
        "colab": {}
      },
      "source": [
        "# shuffled_indices = np.arange(unscaled_inputs_all.shape[0])\n",
        "# np.random.shuffle(shuffled_indices) \n",
        "\n",
        "# unscaled_inputs_all = unscaled_inputs_all[shuffled_indices]\n",
        "# targets_all = targets_all[shuffled_indices]"
      ],
      "execution_count": 0,
      "outputs": []
    },
    {
      "cell_type": "code",
      "metadata": {
        "id": "F4Faws6EI5rE",
        "colab_type": "code",
        "colab": {}
      },
      "source": [
        "#  print(\"Inputs Have {} rows X {} columns\".format(unscaled_inputs_all.shape[0], unscaled_inputs_all.shape[1]))\n",
        "#  print(\"Targers Have {} rows X 1 columns\".format(targets_all.shape[0]))"
      ],
      "execution_count": 0,
      "outputs": []
    },
    {
      "cell_type": "markdown",
      "metadata": {
        "id": "UeeSlrtX3m3E",
        "colab_type": "text"
      },
      "source": [
        "### Balancing Dataset\n",
        "\n",
        "  * The Balancing the dataset required due the output is a categorical data. so it is possible that our Datasets target values have more percentage of one category than others.\n"
      ]
    },
    {
      "cell_type": "code",
      "metadata": {
        "id": "8x-9nNOe7opC",
        "colab_type": "code",
        "colab": {
          "base_uri": "https://localhost:8080/",
          "height": 34
        },
        "outputId": "085aa17d-255c-449d-9706-7addba29caba"
      },
      "source": [
        "no_of_ones = np.sum(targets_all, axis = 0)\n",
        "no_of_zeros = len(targets_all) - no_of_ones\n",
        "print(\"The Percentage of Zeros {:.2f} %, The Percentage of Ones {:.2f}%\".format(no_of_zeros/len(targets_all)*100 , no_of_ones/len(targets_all)*100))"
      ],
      "execution_count": 6,
      "outputs": [
        {
          "output_type": "stream",
          "text": [
            "The Percentage of Zeros 84.12 %, The Percentage of Ones 15.88%\n"
          ],
          "name": "stdout"
        }
      ]
    },
    {
      "cell_type": "markdown",
      "metadata": {
        "id": "ZZCXc7l29yTH",
        "colab_type": "text"
      },
      "source": [
        "* The Percentage of customers won't buy audiobooks is higher than Percantage of customers will buy. That Leads to result in a biased machine learning algorithm."
      ]
    },
    {
      "cell_type": "code",
      "metadata": {
        "id": "HfguTWs0_zae",
        "colab_type": "code",
        "colab": {
          "base_uri": "https://localhost:8080/",
          "height": 34
        },
        "outputId": "01bd73b1-1261-4050-ebf3-5a918827d665"
      },
      "source": [
        "zero_targets_counter = 0\n",
        "indices_to_remove = []\n",
        "\n",
        "for i in range(targets_all.shape[0]):\n",
        "  if targets_all[i] == 0:\n",
        "    zero_targets_counter+=1\n",
        "    if zero_targets_counter > no_of_ones:\n",
        "      indices_to_remove.append(i)\n",
        "\n",
        "unscaled_inputs_equal_priors = np.delete(unscaled_inputs_all, indices_to_remove ,axis =0)\n",
        "target_equal_priors = np.delete(targets_all,indices_to_remove ,axis =0)\n",
        "\n",
        "print(\"The Percentage of Zeros {:.2f} %, The Percentage of Ones {:.2f}%\".format(np.sum(target_equal_priors)/len(target_equal_priors)*100 , (len(target_equal_priors) - np.sum(target_equal_priors))/len(target_equal_priors)*100))"
      ],
      "execution_count": 7,
      "outputs": [
        {
          "output_type": "stream",
          "text": [
            "The Percentage of Zeros 50.00 %, The Percentage of Ones 50.00%\n"
          ],
          "name": "stdout"
        }
      ]
    },
    {
      "cell_type": "markdown",
      "metadata": {
        "id": "a8wSiucZBg8G",
        "colab_type": "text"
      },
      "source": [
        "### Standardize the Inputs"
      ]
    },
    {
      "cell_type": "code",
      "metadata": {
        "id": "hQuvf11NB_rR",
        "colab_type": "code",
        "colab": {}
      },
      "source": [
        "scaled_inputs = preprocessing.scale(unscaled_inputs_equal_priors)"
      ],
      "execution_count": 0,
      "outputs": []
    },
    {
      "cell_type": "markdown",
      "metadata": {
        "id": "0ZAnETirCMq2",
        "colab_type": "text"
      },
      "source": [
        "### Shuffle the data "
      ]
    },
    {
      "cell_type": "code",
      "metadata": {
        "id": "pdzq2w7TDBac",
        "colab_type": "code",
        "colab": {}
      },
      "source": [
        "scaled_indices = np.arange(scaled_inputs.shape[0])\n",
        "\n",
        "np.random.shuffle(scaled_indices)\n",
        "\n",
        "shuffled_inputs = scaled_inputs[scaled_indices]\n",
        "shuffled_targets = target_equal_priors[scaled_indices]"
      ],
      "execution_count": 0,
      "outputs": []
    },
    {
      "cell_type": "code",
      "metadata": {
        "id": "DRProdCnKjv4",
        "colab_type": "code",
        "colab": {
          "base_uri": "https://localhost:8080/",
          "height": 51
        },
        "outputId": "5e5bf552-97c8-4a24-99a0-4f435ca5141f"
      },
      "source": [
        " print(\"Inputs Have {} rows X {} columns\".format(shuffled_inputs.shape[0], shuffled_inputs.shape[1]))\n",
        " print(\"Targers Have {} rows X 1 columns\".format(shuffled_targets.shape[0]))"
      ],
      "execution_count": 10,
      "outputs": [
        {
          "output_type": "stream",
          "text": [
            "Inputs Have 4474 rows X 10 columns\n",
            "Targers Have 4474 rows X 1 columns\n"
          ],
          "name": "stdout"
        }
      ]
    },
    {
      "cell_type": "markdown",
      "metadata": {
        "id": "vpnEl91vDslM",
        "colab_type": "text"
      },
      "source": [
        "### split the train ,validation ,test Datasets."
      ]
    },
    {
      "cell_type": "code",
      "metadata": {
        "id": "b4tmmTNOEssl",
        "colab_type": "code",
        "colab": {}
      },
      "source": [
        "sample_count = shuffled_inputs.shape[0]\n",
        "\n",
        "train_samples_count = int(0.8 * sample_count)\n",
        "validation_samples_count = int(0.1 * sample_count)\n",
        "\n",
        "test_samples_count = sample_count - train_samples_count - validation_samples_count\n",
        "\n",
        "train_inputs = shuffled_inputs[: train_samples_count]\n",
        "train_targets = shuffled_targets[: train_samples_count]\n",
        "\n",
        "validation_inputs = shuffled_inputs[train_samples_count:train_samples_count+validation_samples_count]\n",
        "validation_targets = shuffled_targets[train_samples_count:train_samples_count+validation_samples_count]\n",
        "\n",
        "\n",
        "test_inputs = shuffled_inputs[train_samples_count+validation_samples_count:]\n",
        "test_targets = shuffled_targets[train_samples_count+validation_samples_count:]\n"
      ],
      "execution_count": 0,
      "outputs": []
    },
    {
      "cell_type": "code",
      "metadata": {
        "id": "3D0Y6x51K3XZ",
        "colab_type": "code",
        "colab": {
          "base_uri": "https://localhost:8080/",
          "height": 170
        },
        "outputId": "9a30f103-479d-4f2b-f9da-53329dc6d80a"
      },
      "source": [
        " print(\"Train Inputs Have {} rows X {} columns\".format(train_inputs.shape[0], train_inputs.shape[1]))\n",
        " print(\"Train Targers Have {} rows X 1 columns\\n\".format(train_targets.shape[0]))\n",
        "\n",
        " print(\"validation Inputs Have {} rows X {} columns\".format(validation_inputs.shape[0], validation_inputs.shape[1]))\n",
        " print(\"validation Targers Have {} rows X 1 columns\\n\".format(validation_targets.shape[0]))\n",
        "\n",
        "\n",
        " print(\"test Inputs Have {} rows X {} columns\".format(test_inputs.shape[0], test_inputs.shape[1]))\n",
        " print(\"test Targers Have {} rows X 1 columns\\n\".format(test_targets.shape[0]))"
      ],
      "execution_count": 12,
      "outputs": [
        {
          "output_type": "stream",
          "text": [
            "Train Inputs Have 3579 rows X 10 columns\n",
            "Train Targers Have 3579 rows X 1 columns\n",
            "\n",
            "validation Inputs Have 447 rows X 10 columns\n",
            "validation Targers Have 447 rows X 1 columns\n",
            "\n",
            "test Inputs Have 448 rows X 10 columns\n",
            "test Targers Have 448 rows X 1 columns\n",
            "\n"
          ],
          "name": "stdout"
        }
      ]
    },
    {
      "cell_type": "code",
      "metadata": {
        "id": "h_WbCPMfHnUV",
        "colab_type": "code",
        "colab": {}
      },
      "source": [
        "np.savez('Audiobooks_data_train', inputs=train_inputs, targets=train_targets)\n",
        "np.savez('Audiobooks_data_validation', inputs=validation_inputs, targets=validation_targets)\n",
        "np.savez('Audiobooks_data_test', inputs=test_inputs, targets=test_targets)"
      ],
      "execution_count": 0,
      "outputs": []
    },
    {
      "cell_type": "markdown",
      "metadata": {
        "id": "A0GTSsXFL1NQ",
        "colab_type": "text"
      },
      "source": [
        "### Model Creation "
      ]
    },
    {
      "cell_type": "code",
      "metadata": {
        "id": "RZIkduAZL8qA",
        "colab_type": "code",
        "colab": {}
      },
      "source": [
        "npz = np.load('Audiobooks_data_train.npz')\n",
        "train_inputs , train_targets = npz['inputs'].astype(np.float) , npz['targets'].astype(np.int)\n",
        "npz = np.load('Audiobooks_data_validation.npz')\n",
        "validation_inputs , validation_targets = npz['inputs'].astype(np.float) , npz['targets'].astype(np.int)\n",
        "npz = np.load('Audiobooks_data_test.npz')\n",
        "test_inputs , test_targets = npz['inputs'].astype(np.float) , npz['targets'].astype(np.int)"
      ],
      "execution_count": 0,
      "outputs": []
    },
    {
      "cell_type": "code",
      "metadata": {
        "id": "nDeTRqakMcqy",
        "colab_type": "code",
        "colab": {
          "base_uri": "https://localhost:8080/",
          "height": 170
        },
        "outputId": "2c79e268-b5ff-4986-82d1-3e67e96d67ae"
      },
      "source": [
        " print(\"Train Inputs Have {} rows X {} columns\".format(train_inputs.shape[0], train_inputs.shape[1]))\n",
        " print(\"Train Targers Have {} rows X 1 columns\\n\".format(train_targets.shape[0]))\n",
        "\n",
        " print(\"validation Inputs Have {} rows X {} columns\".format(validation_inputs.shape[0], validation_inputs.shape[1]))\n",
        " print(\"validation Targers Have {} rows X 1 columns\\n\".format(validation_targets.shape[0]))\n",
        "\n",
        "\n",
        " print(\"test Inputs Have {} rows X {} columns\".format(test_inputs.shape[0], test_inputs.shape[1]))\n",
        " print(\"test Targers Have {} rows X 1 columns\\n\".format(test_targets.shape[0]))"
      ],
      "execution_count": 15,
      "outputs": [
        {
          "output_type": "stream",
          "text": [
            "Train Inputs Have 3579 rows X 10 columns\n",
            "Train Targers Have 3579 rows X 1 columns\n",
            "\n",
            "validation Inputs Have 447 rows X 10 columns\n",
            "validation Targers Have 447 rows X 1 columns\n",
            "\n",
            "test Inputs Have 448 rows X 10 columns\n",
            "test Targers Have 448 rows X 1 columns\n",
            "\n"
          ],
          "name": "stdout"
        }
      ]
    },
    {
      "cell_type": "code",
      "metadata": {
        "id": "goSLhTgPNPUO",
        "colab_type": "code",
        "colab": {}
      },
      "source": [
        " input_size = 10\n",
        " output_size = 2\n",
        " hidden_layers_size = 50\n",
        " model = tf.keras.Sequential([\n",
        "                              tf.keras.layers.Dense(hidden_layers_size ,activation='relu'),\n",
        "                              tf.keras.layers.Dense(hidden_layers_size ,activation = 'relu'),\n",
        "                              tf.keras.layers.Dense(output_size , activation='softmax')\n",
        " ])\n",
        " model.compile(optimizer='adam', loss='sparse_categorical_crossentropy', metrics=['accuracy'])\n",
        " early_stopping = tf.keras.callbacks.EarlyStopping(patience=2 , verbose=2)\n",
        "\n",
        "BATCH_SIZE =100\n",
        "EPOCH_MAX = 100\n",
        "\n"
      ],
      "execution_count": 0,
      "outputs": []
    },
    {
      "cell_type": "code",
      "metadata": {
        "id": "padWdo3GPbSm",
        "colab_type": "code",
        "colab": {
          "base_uri": "https://localhost:8080/",
          "height": 799
        },
        "outputId": "32e86c97-0f87-4dd2-eed7-78b1d812d677"
      },
      "source": [
        "model.fit(\n",
        "    x = train_inputs,\n",
        "    y = train_targets,\n",
        "    batch_size = BATCH_SIZE,\n",
        "    epochs = EPOCH_MAX,\n",
        "    callbacks =[early_stopping],\n",
        "    validation_data = (validation_inputs, validation_targets),\n",
        "    verbose =2\n",
        ")\n",
        " "
      ],
      "execution_count": 17,
      "outputs": [
        {
          "output_type": "stream",
          "text": [
            "Epoch 1/100\n",
            "36/36 - 0s - loss: 0.6017 - accuracy: 0.7153 - val_loss: 0.4459 - val_accuracy: 0.8792\n",
            "Epoch 2/100\n",
            "36/36 - 0s - loss: 0.3897 - accuracy: 0.8715 - val_loss: 0.3348 - val_accuracy: 0.8770\n",
            "Epoch 3/100\n",
            "36/36 - 0s - loss: 0.3262 - accuracy: 0.8860 - val_loss: 0.3108 - val_accuracy: 0.8747\n",
            "Epoch 4/100\n",
            "36/36 - 0s - loss: 0.3039 - accuracy: 0.8908 - val_loss: 0.2997 - val_accuracy: 0.8859\n",
            "Epoch 5/100\n",
            "36/36 - 0s - loss: 0.2879 - accuracy: 0.8949 - val_loss: 0.2837 - val_accuracy: 0.8881\n",
            "Epoch 6/100\n",
            "36/36 - 0s - loss: 0.2785 - accuracy: 0.8955 - val_loss: 0.2818 - val_accuracy: 0.8881\n",
            "Epoch 7/100\n",
            "36/36 - 0s - loss: 0.2688 - accuracy: 0.8994 - val_loss: 0.2714 - val_accuracy: 0.8881\n",
            "Epoch 8/100\n",
            "36/36 - 0s - loss: 0.2631 - accuracy: 0.9014 - val_loss: 0.2671 - val_accuracy: 0.8881\n",
            "Epoch 9/100\n",
            "36/36 - 0s - loss: 0.2584 - accuracy: 0.9019 - val_loss: 0.2680 - val_accuracy: 0.8949\n",
            "Epoch 10/100\n",
            "36/36 - 0s - loss: 0.2547 - accuracy: 0.9033 - val_loss: 0.2648 - val_accuracy: 0.8904\n",
            "Epoch 11/100\n",
            "36/36 - 0s - loss: 0.2529 - accuracy: 0.9044 - val_loss: 0.2592 - val_accuracy: 0.8949\n",
            "Epoch 12/100\n",
            "36/36 - 0s - loss: 0.2490 - accuracy: 0.9047 - val_loss: 0.2544 - val_accuracy: 0.8949\n",
            "Epoch 13/100\n",
            "36/36 - 0s - loss: 0.2462 - accuracy: 0.9058 - val_loss: 0.2561 - val_accuracy: 0.9016\n",
            "Epoch 14/100\n",
            "36/36 - 0s - loss: 0.2439 - accuracy: 0.9078 - val_loss: 0.2521 - val_accuracy: 0.8993\n",
            "Epoch 15/100\n",
            "36/36 - 0s - loss: 0.2412 - accuracy: 0.9061 - val_loss: 0.2507 - val_accuracy: 0.9016\n",
            "Epoch 16/100\n",
            "36/36 - 0s - loss: 0.2396 - accuracy: 0.9081 - val_loss: 0.2491 - val_accuracy: 0.8971\n",
            "Epoch 17/100\n",
            "36/36 - 0s - loss: 0.2382 - accuracy: 0.9111 - val_loss: 0.2519 - val_accuracy: 0.9038\n",
            "Epoch 18/100\n",
            "36/36 - 0s - loss: 0.2363 - accuracy: 0.9106 - val_loss: 0.2457 - val_accuracy: 0.8993\n",
            "Epoch 19/100\n",
            "36/36 - 0s - loss: 0.2345 - accuracy: 0.9103 - val_loss: 0.2489 - val_accuracy: 0.9060\n",
            "Epoch 20/100\n",
            "36/36 - 0s - loss: 0.2344 - accuracy: 0.9125 - val_loss: 0.2415 - val_accuracy: 0.9038\n",
            "Epoch 21/100\n",
            "36/36 - 0s - loss: 0.2347 - accuracy: 0.9106 - val_loss: 0.2434 - val_accuracy: 0.9038\n",
            "Epoch 22/100\n",
            "36/36 - 0s - loss: 0.2314 - accuracy: 0.9123 - val_loss: 0.2485 - val_accuracy: 0.9083\n",
            "Epoch 00022: early stopping\n"
          ],
          "name": "stdout"
        },
        {
          "output_type": "execute_result",
          "data": {
            "text/plain": [
              "<tensorflow.python.keras.callbacks.History at 0x7efb96140320>"
            ]
          },
          "metadata": {
            "tags": []
          },
          "execution_count": 17
        }
      ]
    },
    {
      "cell_type": "markdown",
      "metadata": {
        "id": "E81KI3pDYak3",
        "colab_type": "text"
      },
      "source": [
        "### Test Model\n",
        "\n",
        "* Testing with the Balanced test Dataset"
      ]
    },
    {
      "cell_type": "code",
      "metadata": {
        "id": "VxifB2u-Yd0G",
        "colab_type": "code",
        "colab": {
          "base_uri": "https://localhost:8080/",
          "height": 34
        },
        "outputId": "65210bfa-69da-4003-99cc-3657d7968e7d"
      },
      "source": [
        " test_loss , test_accuracy = model.evaluate(test_inputs,test_targets)"
      ],
      "execution_count": 18,
      "outputs": [
        {
          "output_type": "stream",
          "text": [
            "14/14 [==============================] - 0s 1ms/step - loss: 0.2493 - accuracy: 0.9129\n"
          ],
          "name": "stdout"
        }
      ]
    },
    {
      "cell_type": "code",
      "metadata": {
        "id": "7V8-1jhkYjDy",
        "colab_type": "code",
        "colab": {
          "base_uri": "https://localhost:8080/",
          "height": 34
        },
        "outputId": "c1713d69-5c4f-44b2-e005-d6c4fa9e932f"
      },
      "source": [
        "print(\"TestLoss : {:.1f} , Test Accuracy : {:.2f}%\".format(test_loss, test_accuracy*100))"
      ],
      "execution_count": 19,
      "outputs": [
        {
          "output_type": "stream",
          "text": [
            "TestLoss : 0.2 , Test Accuracy : 91.29%\n"
          ],
          "name": "stdout"
        }
      ]
    },
    {
      "cell_type": "markdown",
      "metadata": {
        "id": "RYo9rkQTac_0",
        "colab_type": "text"
      },
      "source": [
        "* Testing the un-balanced dataset."
      ]
    },
    {
      "cell_type": "code",
      "metadata": {
        "id": "gJO8UchFa08a",
        "colab_type": "code",
        "colab": {
          "base_uri": "https://localhost:8080/",
          "height": 51
        },
        "outputId": "784ffb87-0892-463c-b219-138afc5fe174"
      },
      "source": [
        "whole_inputs = preprocessing.scale(unscaled_inputs_all)\n",
        "\n",
        "scaled_indices = np.arange(whole_inputs.shape[0])\n",
        "\n",
        "np.random.shuffle(scaled_indices)\n",
        "\n",
        "shuffled_whole_inputs = whole_inputs[scaled_indices]\n",
        "shuffled_whole_targets = targets_all[scaled_indices]\n",
        "\n",
        "print(\"Inputs Have {} rows X {} columns\".format(shuffled_whole_inputs.shape[0], shuffled_whole_inputs.shape[1]))\n",
        "print(\"Targers Have {} rows X 1 columns\".format(shuffled_whole_targets.shape[0]))"
      ],
      "execution_count": 23,
      "outputs": [
        {
          "output_type": "stream",
          "text": [
            "Inputs Have 14084 rows X 10 columns\n",
            "Targers Have 14084 rows X 1 columns\n"
          ],
          "name": "stdout"
        }
      ]
    },
    {
      "cell_type": "code",
      "metadata": {
        "id": "UrqCF9Mlboo_",
        "colab_type": "code",
        "colab": {
          "base_uri": "https://localhost:8080/",
          "height": 51
        },
        "outputId": "a0048933-b20e-4e14-a339-5d9a46eaf7e9"
      },
      "source": [
        "test_loss , test_accuracy = model.evaluate(shuffled_whole_inputs,shuffled_whole_targets)\n",
        "print(\"TestLoss : {:.1f} , Test Accuracy : {:.2f}%\".format(test_loss, test_accuracy*100))"
      ],
      "execution_count": 24,
      "outputs": [
        {
          "output_type": "stream",
          "text": [
            "441/441 [==============================] - 1s 1ms/step - loss: 1.3737 - accuracy: 0.4944\n",
            "TestLoss : 1.4 , Test Accuracy : 49.44%\n"
          ],
          "name": "stdout"
        }
      ]
    },
    {
      "cell_type": "markdown",
      "metadata": {
        "id": "jP9pQQmEZr26",
        "colab_type": "text"
      },
      "source": [
        "### Conclusion \n",
        "* The Test Accuracy of our Model is 91.96 %, which higher than validation accuracy, theoratically it is not possible.\n",
        "\n",
        "* But, 91.96 % pretty Good Accuracy Rate.\n",
        "\n",
        "* When we applied for the whole dataset without Balancing the dataset, the Test accuracy is 50%.\n",
        "\n",
        "* It shows that balancing the dataset , will have a cutback on the actual dataset.\n",
        "\n",
        "\n",
        "\n"
      ]
    }
  ]
}